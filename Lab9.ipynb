{
  "nbformat": 4,
  "nbformat_minor": 0,
  "metadata": {
    "colab": {
      "provenance": [],
      "authorship_tag": "ABX9TyPRH7uDuFe4nSImQWD0vvRg",
      "include_colab_link": true
    },
    "kernelspec": {
      "name": "python3",
      "display_name": "Python 3"
    },
    "language_info": {
      "name": "python"
    }
  },
  "cells": [
    {
      "cell_type": "markdown",
      "metadata": {
        "id": "view-in-github",
        "colab_type": "text"
      },
      "source": [
        "<a href=\"https://colab.research.google.com/github/rigamrozel/DV-BSIS2-LAB9-rigamrozel/blob/main/Lab9.ipynb\" target=\"_parent\"><img src=\"https://colab.research.google.com/assets/colab-badge.svg\" alt=\"Open In Colab\"/></a>"
      ]
    },
    {
      "cell_type": "code",
      "execution_count": 1,
      "metadata": {
        "colab": {
          "base_uri": "https://localhost:8080/"
        },
        "id": "vhvEFOIMMmS1",
        "outputId": "cfb9351f-5262-4c34-c3ee-35865960d2aa"
      },
      "outputs": [
        {
          "output_type": "stream",
          "name": "stdout",
          "text": [
            "()\n",
            "(3, 7, 4, 2, 5)\n",
            "<class 'str'>\n",
            "3\n",
            "2\n",
            "(3, 7)\n",
            "(3, 7, 4)\n",
            "0 Fatima\n",
            "1 Doring\n",
            "2 Weshlei\n",
            "3 Dinan\n",
            "4 Jam\n"
          ]
        }
      ],
      "source": [
        "emptyTuple=()\n",
        "print(emptyTuple)\n",
        "\n",
        "z=(3,7,4,2,5)\n",
        "print(z)\n",
        "\n",
        "tup1=('Rozel',)\n",
        "tup2='Rozel',\n",
        "notTuple=('Rozel')\n",
        "print(type(notTuple))\n",
        "\n",
        "z=(3,7,4,2)\n",
        "print(z[0])\n",
        "\n",
        "z=(3,7,4,2)\n",
        "print(z[-1])\n",
        "\n",
        "z=(3,7,4,2)\n",
        "print(z[0:2])\n",
        "\n",
        "z=(3,7,4,2)\n",
        "print(z[:3])\n",
        "\n",
        "friends=('Fatima','Doring','Weshlei','Dinan','Jam')\n",
        "for index, friends in enumerate(friends):\n",
        "   print(index,friends)"
      ]
    }
  ]
}